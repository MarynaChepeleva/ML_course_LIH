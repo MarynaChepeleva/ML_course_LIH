{
 "cells": [
  {
   "cell_type": "code",
   "execution_count": null,
   "id": "2999930c",
   "metadata": {},
   "outputs": [],
   "source": [
    "# HW Module 2\n",
    "# mchepelva\n",
    "#"
   ]
  },
  {
   "cell_type": "code",
   "execution_count": null,
   "id": "ae7248e0",
   "metadata": {},
   "outputs": [],
   "source": [
    "# Load the Mice dataset from the folowing location: 'http://edu.modas.lu/data/txt/mice.txt'.\n",
    "\n",
    "The dataset contains some missing values. Remove the observations (rows) with NaN values \n",
    "    (hint: pandas.DataFrame.dropna).\n",
    "\n",
    " Extract the labels (sex) and features (starting age, ending age, starting weight, ending weight, weight change, \n",
    "        bleeding time, ionized Ca in blood, blood pH, bone mineral density, lean tissues weight and fat weight) \n",
    "from the Mice dataset.\n",
    "\n",
    " Convert categorical labels to numerical (hint: sklearn.preprocessing.LabelEncoder).\n",
    "\n",
    " Divide the data into training and test subsets in 75:25 ratio (hint: sklearn.model_selection.train_test_split).\n",
    "\n",
    " Scale the data so that the mean of each feature equals zero and standard deviation equals one (hint: sklearn.preprocessing.StandardScaler).\n",
    "\n",
    " Train logistic regression classifier using the training dataset and predict the labels using the test dataset.\n",
    "\n",
    " Calculate and print classification accuracy (hint: sklearn.metrics.accuracy_score).\n",
    "\n",
    " Plot confusion matrix and ROC curve (hint: sklearn.metrics.[roc_auc_score,roc_curve,confusion_matrix]).\n",
    "\n",
    " Repeat training and evaluation steps without scaling the features and analyse the obtained results."
   ]
  },
  {
   "cell_type": "code",
   "execution_count": 79,
   "id": "ea05a5b0",
   "metadata": {},
   "outputs": [],
   "source": [
    "import pandas as pd\n",
    "import numpy as np\n",
    "import sklearn as sk\n",
    "from sklearn.preprocessing import LabelEncoder\n",
    "from sklearn.model_selection import train_test_split\n",
    "from sklearn.preprocessing import StandardScaler\n",
    "from sklearn.linear_model import LogisticRegression\n",
    "from sklearn.metrics import accuracy_score, roc_auc_score, roc_curve, confusion_matrix\n",
    "import matplotlib.pyplot as plt\n",
    "import seaborn as sns"
   ]
  },
  {
   "cell_type": "code",
   "execution_count": 80,
   "id": "5d1e6284",
   "metadata": {},
   "outputs": [
    {
     "data": {
      "text/html": [
       "<div>\n",
       "<style scoped>\n",
       "    .dataframe tbody tr th:only-of-type {\n",
       "        vertical-align: middle;\n",
       "    }\n",
       "\n",
       "    .dataframe tbody tr th {\n",
       "        vertical-align: top;\n",
       "    }\n",
       "\n",
       "    .dataframe thead th {\n",
       "        text-align: right;\n",
       "    }\n",
       "</style>\n",
       "<table border=\"1\" class=\"dataframe\">\n",
       "  <thead>\n",
       "    <tr style=\"text-align: right;\">\n",
       "      <th></th>\n",
       "      <th>ID</th>\n",
       "      <th>Strain</th>\n",
       "      <th>Sex</th>\n",
       "      <th>Starting age</th>\n",
       "      <th>Ending age</th>\n",
       "      <th>Starting weight</th>\n",
       "      <th>Ending weight</th>\n",
       "      <th>Weight change</th>\n",
       "      <th>Bleeding time</th>\n",
       "      <th>Ionized Ca in blood</th>\n",
       "      <th>Blood pH</th>\n",
       "      <th>Bone mineral density</th>\n",
       "      <th>Lean tissues weight</th>\n",
       "      <th>Fat weight</th>\n",
       "    </tr>\n",
       "  </thead>\n",
       "  <tbody>\n",
       "    <tr>\n",
       "      <th>0</th>\n",
       "      <td>1</td>\n",
       "      <td>129S1/SvImJ</td>\n",
       "      <td>f</td>\n",
       "      <td>66</td>\n",
       "      <td>116.0</td>\n",
       "      <td>19.3</td>\n",
       "      <td>20.5</td>\n",
       "      <td>1.062</td>\n",
       "      <td>64.0</td>\n",
       "      <td>1.20</td>\n",
       "      <td>7.24</td>\n",
       "      <td>0.0605</td>\n",
       "      <td>14.5</td>\n",
       "      <td>4.4</td>\n",
       "    </tr>\n",
       "    <tr>\n",
       "      <th>1</th>\n",
       "      <td>2</td>\n",
       "      <td>129S1/SvImJ</td>\n",
       "      <td>f</td>\n",
       "      <td>66</td>\n",
       "      <td>116.0</td>\n",
       "      <td>19.1</td>\n",
       "      <td>20.8</td>\n",
       "      <td>1.089</td>\n",
       "      <td>78.0</td>\n",
       "      <td>1.15</td>\n",
       "      <td>7.27</td>\n",
       "      <td>0.0553</td>\n",
       "      <td>13.9</td>\n",
       "      <td>4.4</td>\n",
       "    </tr>\n",
       "    <tr>\n",
       "      <th>2</th>\n",
       "      <td>3</td>\n",
       "      <td>129S1/SvImJ</td>\n",
       "      <td>f</td>\n",
       "      <td>66</td>\n",
       "      <td>108.0</td>\n",
       "      <td>17.9</td>\n",
       "      <td>19.8</td>\n",
       "      <td>1.106</td>\n",
       "      <td>90.0</td>\n",
       "      <td>1.16</td>\n",
       "      <td>7.26</td>\n",
       "      <td>0.0546</td>\n",
       "      <td>13.8</td>\n",
       "      <td>2.9</td>\n",
       "    </tr>\n",
       "    <tr>\n",
       "      <th>3</th>\n",
       "      <td>368</td>\n",
       "      <td>129S1/SvImJ</td>\n",
       "      <td>f</td>\n",
       "      <td>72</td>\n",
       "      <td>114.0</td>\n",
       "      <td>18.3</td>\n",
       "      <td>21.0</td>\n",
       "      <td>1.148</td>\n",
       "      <td>65.0</td>\n",
       "      <td>1.26</td>\n",
       "      <td>7.22</td>\n",
       "      <td>0.0599</td>\n",
       "      <td>15.4</td>\n",
       "      <td>4.2</td>\n",
       "    </tr>\n",
       "    <tr>\n",
       "      <th>4</th>\n",
       "      <td>369</td>\n",
       "      <td>129S1/SvImJ</td>\n",
       "      <td>f</td>\n",
       "      <td>72</td>\n",
       "      <td>115.0</td>\n",
       "      <td>20.2</td>\n",
       "      <td>21.9</td>\n",
       "      <td>1.084</td>\n",
       "      <td>55.0</td>\n",
       "      <td>1.23</td>\n",
       "      <td>7.30</td>\n",
       "      <td>0.0623</td>\n",
       "      <td>15.6</td>\n",
       "      <td>4.3</td>\n",
       "    </tr>\n",
       "  </tbody>\n",
       "</table>\n",
       "</div>"
      ],
      "text/plain": [
       "    ID       Strain Sex  Starting age  Ending age  Starting weight  \\\n",
       "0    1  129S1/SvImJ   f            66       116.0             19.3   \n",
       "1    2  129S1/SvImJ   f            66       116.0             19.1   \n",
       "2    3  129S1/SvImJ   f            66       108.0             17.9   \n",
       "3  368  129S1/SvImJ   f            72       114.0             18.3   \n",
       "4  369  129S1/SvImJ   f            72       115.0             20.2   \n",
       "\n",
       "   Ending weight  Weight change  Bleeding time  Ionized Ca in blood  Blood pH  \\\n",
       "0           20.5          1.062           64.0                 1.20      7.24   \n",
       "1           20.8          1.089           78.0                 1.15      7.27   \n",
       "2           19.8          1.106           90.0                 1.16      7.26   \n",
       "3           21.0          1.148           65.0                 1.26      7.22   \n",
       "4           21.9          1.084           55.0                 1.23      7.30   \n",
       "\n",
       "   Bone mineral density  Lean tissues weight  Fat weight  \n",
       "0                0.0605                 14.5         4.4  \n",
       "1                0.0553                 13.9         4.4  \n",
       "2                0.0546                 13.8         2.9  \n",
       "3                0.0599                 15.4         4.2  \n",
       "4                0.0623                 15.6         4.3  "
      ]
     },
     "execution_count": 80,
     "metadata": {},
     "output_type": "execute_result"
    }
   ],
   "source": [
    "mice = pd.read_csv('http://edu.modas.lu/data/txt/mice.txt', delimiter='\\t', index_col=None) \n",
    "mice.head()"
   ]
  },
  {
   "cell_type": "code",
   "execution_count": 81,
   "id": "94578e08",
   "metadata": {},
   "outputs": [
    {
     "name": "stdout",
     "output_type": "stream",
     "text": [
      "ID                       0\n",
      "Strain                   0\n",
      "Sex                      0\n",
      "Starting age             0\n",
      "Ending age               2\n",
      "Starting weight          0\n",
      "Ending weight            0\n",
      "Weight change            0\n",
      "Bleeding time           30\n",
      "Ionized Ca in blood      2\n",
      "Blood pH                 2\n",
      "Bone mineral density     3\n",
      "Lean tissues weight      3\n",
      "Fat weight               3\n",
      "dtype: int64\n"
     ]
    }
   ],
   "source": [
    "# missing values\n",
    "print(mice.isna().sum())\n",
    "df = mice.dropna(axis=0)"
   ]
  },
  {
   "cell_type": "code",
   "execution_count": 82,
   "id": "98ae06cc",
   "metadata": {},
   "outputs": [
    {
     "name": "stdout",
     "output_type": "stream",
     "text": [
      "['f' 'm']\n"
     ]
    },
    {
     "data": {
      "text/html": [
       "<div>\n",
       "<style scoped>\n",
       "    .dataframe tbody tr th:only-of-type {\n",
       "        vertical-align: middle;\n",
       "    }\n",
       "\n",
       "    .dataframe tbody tr th {\n",
       "        vertical-align: top;\n",
       "    }\n",
       "\n",
       "    .dataframe thead th {\n",
       "        text-align: right;\n",
       "    }\n",
       "</style>\n",
       "<table border=\"1\" class=\"dataframe\">\n",
       "  <thead>\n",
       "    <tr style=\"text-align: right;\">\n",
       "      <th></th>\n",
       "      <th>Starting age</th>\n",
       "      <th>Ending age</th>\n",
       "      <th>Starting weight</th>\n",
       "      <th>Ending weight</th>\n",
       "      <th>Weight change</th>\n",
       "      <th>Bleeding time</th>\n",
       "      <th>Ionized Ca in blood</th>\n",
       "      <th>Blood pH</th>\n",
       "      <th>Bone mineral density</th>\n",
       "      <th>Lean tissues weight</th>\n",
       "      <th>Fat weight</th>\n",
       "      <th>IS_MALE</th>\n",
       "    </tr>\n",
       "  </thead>\n",
       "  <tbody>\n",
       "    <tr>\n",
       "      <th>0</th>\n",
       "      <td>66</td>\n",
       "      <td>116.0</td>\n",
       "      <td>19.3</td>\n",
       "      <td>20.5</td>\n",
       "      <td>1.062</td>\n",
       "      <td>64.0</td>\n",
       "      <td>1.20</td>\n",
       "      <td>7.24</td>\n",
       "      <td>0.0605</td>\n",
       "      <td>14.5</td>\n",
       "      <td>4.4</td>\n",
       "      <td>0</td>\n",
       "    </tr>\n",
       "    <tr>\n",
       "      <th>1</th>\n",
       "      <td>66</td>\n",
       "      <td>116.0</td>\n",
       "      <td>19.1</td>\n",
       "      <td>20.8</td>\n",
       "      <td>1.089</td>\n",
       "      <td>78.0</td>\n",
       "      <td>1.15</td>\n",
       "      <td>7.27</td>\n",
       "      <td>0.0553</td>\n",
       "      <td>13.9</td>\n",
       "      <td>4.4</td>\n",
       "      <td>0</td>\n",
       "    </tr>\n",
       "    <tr>\n",
       "      <th>2</th>\n",
       "      <td>66</td>\n",
       "      <td>108.0</td>\n",
       "      <td>17.9</td>\n",
       "      <td>19.8</td>\n",
       "      <td>1.106</td>\n",
       "      <td>90.0</td>\n",
       "      <td>1.16</td>\n",
       "      <td>7.26</td>\n",
       "      <td>0.0546</td>\n",
       "      <td>13.8</td>\n",
       "      <td>2.9</td>\n",
       "      <td>0</td>\n",
       "    </tr>\n",
       "    <tr>\n",
       "      <th>3</th>\n",
       "      <td>72</td>\n",
       "      <td>114.0</td>\n",
       "      <td>18.3</td>\n",
       "      <td>21.0</td>\n",
       "      <td>1.148</td>\n",
       "      <td>65.0</td>\n",
       "      <td>1.26</td>\n",
       "      <td>7.22</td>\n",
       "      <td>0.0599</td>\n",
       "      <td>15.4</td>\n",
       "      <td>4.2</td>\n",
       "      <td>0</td>\n",
       "    </tr>\n",
       "    <tr>\n",
       "      <th>4</th>\n",
       "      <td>72</td>\n",
       "      <td>115.0</td>\n",
       "      <td>20.2</td>\n",
       "      <td>21.9</td>\n",
       "      <td>1.084</td>\n",
       "      <td>55.0</td>\n",
       "      <td>1.23</td>\n",
       "      <td>7.30</td>\n",
       "      <td>0.0623</td>\n",
       "      <td>15.6</td>\n",
       "      <td>4.3</td>\n",
       "      <td>0</td>\n",
       "    </tr>\n",
       "  </tbody>\n",
       "</table>\n",
       "</div>"
      ],
      "text/plain": [
       "   Starting age  Ending age  Starting weight  Ending weight  Weight change  \\\n",
       "0            66       116.0             19.3           20.5          1.062   \n",
       "1            66       116.0             19.1           20.8          1.089   \n",
       "2            66       108.0             17.9           19.8          1.106   \n",
       "3            72       114.0             18.3           21.0          1.148   \n",
       "4            72       115.0             20.2           21.9          1.084   \n",
       "\n",
       "   Bleeding time  Ionized Ca in blood  Blood pH  Bone mineral density  \\\n",
       "0           64.0                 1.20      7.24                0.0605   \n",
       "1           78.0                 1.15      7.27                0.0553   \n",
       "2           90.0                 1.16      7.26                0.0546   \n",
       "3           65.0                 1.26      7.22                0.0599   \n",
       "4           55.0                 1.23      7.30                0.0623   \n",
       "\n",
       "   Lean tissues weight  Fat weight  IS_MALE  \n",
       "0                 14.5         4.4        0  \n",
       "1                 13.9         4.4        0  \n",
       "2                 13.8         2.9        0  \n",
       "3                 15.4         4.2        0  \n",
       "4                 15.6         4.3        0  "
      ]
     },
     "execution_count": 82,
     "metadata": {},
     "output_type": "execute_result"
    }
   ],
   "source": [
    "# subset cols\n",
    "df = df.loc[:, 'Sex':'Fat weight']\n",
    "\n",
    "# Encode categorical\n",
    "label_encoder = LabelEncoder()\n",
    "unique_labels = label_encoder.fit(df['Sex']).classes_ # store unique labels for plotting\n",
    "df['IS_MALE'] = label_encoder.fit_transform(df['Sex'])\n",
    "df = df.drop(columns = 'Sex')\n",
    "print(label_encoder.classes_)\n",
    "df.head()"
   ]
  },
  {
   "cell_type": "code",
   "execution_count": 83,
   "id": "c93db4a3",
   "metadata": {},
   "outputs": [
    {
     "data": {
      "text/plain": [
       "12"
      ]
     },
     "execution_count": 83,
     "metadata": {},
     "output_type": "execute_result"
    }
   ],
   "source": [
    "df.shape[1]"
   ]
  },
  {
   "cell_type": "code",
   "execution_count": 84,
   "id": "25d199bd",
   "metadata": {},
   "outputs": [
    {
     "data": {
      "text/plain": [
       "(569, 12)"
      ]
     },
     "execution_count": 84,
     "metadata": {},
     "output_type": "execute_result"
    }
   ],
   "source": [
    "# Train / test subsets of df (here I tried to store X and y together but then felt all inconvenience of this decision)\n",
    "df_train, df_test = train_test_split(df, test_size=0.25)\n",
    "df_train.shape"
   ]
  },
  {
   "cell_type": "code",
   "execution_count": 85,
   "id": "0e4c8bc7",
   "metadata": {},
   "outputs": [],
   "source": [
    "sc = StandardScaler()\n",
    "X_train_std = sc.fit_transform(df_train.iloc[:,:(df_train.shape[1]-1)])\n",
    "# Use same scaling for test features\n",
    "X_test_std = sc.transform(df_test.iloc[:,:(df_test.shape[1]-1)])"
   ]
  },
  {
   "cell_type": "code",
   "execution_count": 86,
   "id": "23068784",
   "metadata": {},
   "outputs": [
    {
     "name": "stdout",
     "output_type": "stream",
     "text": [
      "\n",
      "Accuracy: 0.76\n"
     ]
    }
   ],
   "source": [
    "# Fit the model\n",
    "model = LogisticRegression(max_iter=5000, solver='newton-cg', penalty='l2')\n",
    "\n",
    "model.fit(X_train_std, df_train.loc[:,\"IS_MALE\"])\n",
    "    \n",
    "# Predict labels on a test dataset\n",
    "y_pred = model.predict(X_test_std)\n",
    "    \n",
    "# Calculate classification accuracy\n",
    "acc = accuracy_score(df_test.loc[:,\"IS_MALE\"], y_pred)\n",
    "print(\"\\nAccuracy: %.2f\" % (acc))"
   ]
  },
  {
   "cell_type": "code",
   "execution_count": 87,
   "id": "820e7942",
   "metadata": {},
   "outputs": [
    {
     "name": "stdout",
     "output_type": "stream",
     "text": [
      "Accuracy without standartization: 0.73\n"
     ]
    }
   ],
   "source": [
    "model.fit(df_train.iloc[:,:(df_train.shape[1]-1)], df_train.loc[:,\"IS_MALE\"])\n",
    "y_pred_ns = model.predict(df_test.iloc[:,:(df_test.shape[1]-1)])\n",
    "acc_notstd =  accuracy_score(df_test.loc[:,\"IS_MALE\"], y_pred_ns)\n",
    "print('Accuracy without standartization: %.2f' % acc_notstd)"
   ]
  },
  {
   "cell_type": "code",
   "execution_count": 88,
   "id": "4990cd8a",
   "metadata": {},
   "outputs": [],
   "source": [
    "def plot_conf_mat(conf_mat, unique_labels):\n",
    "    \"\"\"\n",
    "    Plot confusion matrix\n",
    "     \n",
    "    Parameters\n",
    "    ----------\n",
    "    conf_mat : confusion matrix \n",
    "    unique_labels : unique labels\n",
    "    \"\"\"\n",
    "    \n",
    "    # Calculate the counts and percentages for the confusion matrix\n",
    "    counts = [\"{count:d}\".format(count=value) for value in conf_mat.flatten()]\n",
    "    percentages = [\"{perc:.2%}\".format(perc=value) for value in conf_mat.flatten()/np.sum(conf_mat)]\n",
    "    \n",
    "    # Prepare labels for the confusion matrix\n",
    "    labels = [f\"{v1}\\n{v2}\" for v1, v2 in zip(counts, percentages)]\n",
    "    labels = np.asarray(labels).reshape(int(np.sqrt(len(labels))), int(np.sqrt(len(labels))))\n",
    "    \n",
    "    # Plot confusion matrix\n",
    "    plt.figure()\n",
    "    ax = sns.heatmap(conf_mat, annot=labels, cmap='Blues', fmt='')\n",
    "    ax.set_xlabel('\\nPredicted values')\n",
    "    ax.set_ylabel('Actual values');\n",
    "    \n",
    "    # Annotations\n",
    "    ax.xaxis.set_ticklabels(unique_labels, rotation=0)\n",
    "    ax.yaxis.set_ticklabels(unique_labels, rotation=0)\n",
    "    \n",
    "    # Display the confusion matrix\n",
    "    plt.show()"
   ]
  },
  {
   "cell_type": "code",
   "execution_count": 89,
   "id": "9e69ae76",
   "metadata": {},
   "outputs": [],
   "source": [
    "def plot_ROC(y_test, y_pred_proba):\n",
    "    \"\"\"\n",
    "    Plot receiver operating characteristic (ROC) curve\n",
    "     \n",
    "    Parameters\n",
    "    ----------\n",
    "    y_test : ground truth labels  \n",
    "    y_test_proba: predicted probabilistic labels\n",
    "    \"\"\"\n",
    "    \n",
    "    # Calculate AUC ROC score\n",
    "    auc = roc_auc_score(y_test, y_pred_proba)\n",
    "    \n",
    "    # Compute Receiver operating characteristic (ROC), i.e. FPR and TPR for different thresholds\n",
    "    fpr, tpr, _ = roc_curve(y_test, y_pred_proba)    \n",
    "    \n",
    "    # Plot ROC curve\n",
    "    plt.plot(fpr, tpr, 'b', label='$AUC=$'+ '%.2f' % auc)\n",
    "    plt.plot([0, 1], [0, 1],'r--')\n",
    "    plt.rc('axes', labelsize=10)\n",
    "    plt.rc('legend', fontsize=10)\n",
    "    plt.plot([0, 1], [0, 1],'r--')\n",
    "    plt.xlim([-0.01, 1.01])\n",
    "    plt.ylim([-0.01, 1.01])\n",
    "    plt.ylabel('True Positive Rate')\n",
    "    plt.xlabel('False Positive Rate')\n",
    "    plt.legend(loc=4)\n",
    "    plt.show()  "
   ]
  },
  {
   "cell_type": "code",
   "execution_count": 90,
   "id": "ebf5b3af",
   "metadata": {},
   "outputs": [
    {
     "data": {
      "image/png": "[encoded data removed]",
      "text/plain": [
       "<Figure size 640x480 with 2 Axes>"
      ]
     },
     "metadata": {},
     "output_type": "display_data"
    },
    {
     "data": {
      "image/png": "[encoded data removed]",
      "text/plain": [
       "<Figure size 640x480 with 1 Axes>"
      ]
     },
     "metadata": {},
     "output_type": "display_data"
    }
   ],
   "source": [
    "# Plot confusion matrix\n",
    "plot_conf_mat(confusion_matrix(df_test.loc[:,\"IS_MALE\"], y_pred), unique_labels)  \n",
    "\n",
    "# Predict probabilistic labels for AUC calculation\n",
    "y_pred_proba = model.predict_proba(df_test.iloc[:,:(df_test.shape[1]-1)])[:, 1]\n",
    "# Plot ROC curve\n",
    "plot_ROC(df_test.loc[:,\"IS_MALE\"], y_pred_proba)"
   ]
  }
 ],
 "metadata": {
  "kernelspec": {
   "display_name": "Python 3 (ipykernel)",
   "language": "python",
   "name": "python3"
  },
  "language_info": {
   "codemirror_mode": {
    "name": "ipython",
    "version": 3
   },
   "file_extension": ".py",
   "mimetype": "text/x-python",
   "name": "python",
   "nbconvert_exporter": "python",
   "pygments_lexer": "ipython3",
   "version": "3.11.5"
  }
 },
 "nbformat": 4,
 "nbformat_minor": 5
}
